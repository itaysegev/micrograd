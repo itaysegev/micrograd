{
 "cells": [
  {
   "cell_type": "code",
   "execution_count": 15,
   "id": "6fc8e477-4c63-4f36-8471-96224562d045",
   "metadata": {},
   "outputs": [],
   "source": [
    "# pip install pygraphviz\n",
    "import pygraphviz as pgv"
   ]
  },
  {
   "cell_type": "code",
   "execution_count": 16,
   "id": "a7b88068-d5b0-448d-a5e6-eabb62c4f822",
   "metadata": {},
   "outputs": [],
   "source": [
    "from micrograd.engine import Value"
   ]
  },
  {
   "cell_type": "code",
   "execution_count": 17,
   "id": "38e160f3-5b8b-4dae-8cbf-1bc2b7047077",
   "metadata": {},
   "outputs": [],
   "source": [
    "def trace(root):\n",
    "    nodes, edges = set(), set()\n",
    "    \n",
    "    def build(v):\n",
    "        if v not in nodes:\n",
    "            nodes.add(v)\n",
    "            for child in v._prev:\n",
    "                edges.add((child, v))\n",
    "                build(child)\n",
    "                \n",
    "    build(root)\n",
    "    return nodes, edges\n",
    "\n",
    "def draw_graph(root, format='svg', rankdir='LR'):\n",
    "    \"\"\"\n",
    "    format: png | svg | ...\n",
    "    rankdir: TB (top to bottom graph) | LR (left to right)\n",
    "    \"\"\"\n",
    "    assert rankdir in ['LR', 'TB']\n",
    "    nodes, edges = trace(root)\n",
    "\n",
    "    G = pgv.AGraph(directed=True, rankdir=rankdir)\n",
    "\n",
    "    for n in nodes:\n",
    "        label = \"{ data %.4f | grad %.4f }\" % (n.data, n.grad)\n",
    "        G.add_node(str(id(n)), label=label, shape='record')\n",
    "        if n._op:\n",
    "            G.add_node(str(id(n)) + n._op, label=n._op)\n",
    "            G.add_edge(str(id(n)) + n._op, str(id(n)))\n",
    "\n",
    "    for n1, n2 in edges:\n",
    "        G.add_edge(str(id(n1)), str(id(n2)) + n2._op)\n",
    "\n",
    "    output_filename = f\"graph.{format}\"\n",
    "    G.draw(output_filename, format=format, prog='dot')\n",
    "    print(f\"Graph saved as {output_filename}\")\n",
    "\n"
   ]
  },
  {
   "cell_type": "code",
   "execution_count": 18,
   "id": "6a5c721d-e001-4c62-8789-22d91436e5fe",
   "metadata": {},
   "outputs": [
    {
     "name": "stdout",
     "output_type": "stream",
     "text": [
      "Graph saved as graph.svg\n"
     ]
    }
   ],
   "source": [
    "# a very simple example\n",
    "x = Value(1.0)\n",
    "y = (x * 2 + 1).relu()\n",
    "y.backward()\n",
    "draw_graph(y)"
   ]
  },
  {
   "cell_type": "code",
   "execution_count": 21,
   "id": "24724871-1000-404f-b8d8-278482f4cd52",
   "metadata": {},
   "outputs": [
    {
     "name": "stdout",
     "output_type": "stream",
     "text": [
      "Graph saved as graph.svg\n"
     ]
    }
   ],
   "source": [
    "# a simple 2D neuron\n",
    "import random\n",
    "from micrograd import nn\n",
    "\n",
    "random.seed(1337)\n",
    "n = nn.Neuron(2)\n",
    "x = [Value(1.0), Value(-2.0)]\n",
    "y = n(x)\n",
    "y.backward()\n",
    "\n",
    "draw_graph(y)"
   ]
  },
  {
   "cell_type": "code",
   "execution_count": null,
   "id": "e09351a4-df59-43b2-94d5-19046ae87092",
   "metadata": {},
   "outputs": [],
   "source": []
  }
 ],
 "metadata": {
  "kernelspec": {
   "display_name": "Python 3 (ipykernel)",
   "language": "python",
   "name": "python3"
  },
  "language_info": {
   "codemirror_mode": {
    "name": "ipython",
    "version": 3
   },
   "file_extension": ".py",
   "mimetype": "text/x-python",
   "name": "python",
   "nbconvert_exporter": "python",
   "pygments_lexer": "ipython3",
   "version": "3.9.18"
  }
 },
 "nbformat": 4,
 "nbformat_minor": 5
}
